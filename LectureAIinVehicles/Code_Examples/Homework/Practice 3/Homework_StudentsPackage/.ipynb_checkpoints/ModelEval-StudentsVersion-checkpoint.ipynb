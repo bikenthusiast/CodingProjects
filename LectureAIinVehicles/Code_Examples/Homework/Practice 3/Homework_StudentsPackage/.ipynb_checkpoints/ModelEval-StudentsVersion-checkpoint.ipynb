{
 "cells": [
  {
   "cell_type": "markdown",
   "metadata": {},
   "source": [
    "## Task: Model evaluation\n",
    "\n",
    "You have been given a linear regression model with polynomial basis functions. The coefficients are given as w0, w1 and w2. The mathematical description of the formular looks as the following:\n",
    "\n",
    "$$ y = w_0 + w_1x + w_2x^2 $$\n",
    "\n",
    "Question: You shall now programm a function, which evaluates the model prediction for arbitrary input data points. The input vector x for the data points can hold arbitrary many datapoints and is organized in form of a row vector. The parameter input is organized in form of a vector holding w0, w1 and w2 in this order. The function shall return the predicted output values based on the model. \n",
    "\n",
    "Test cases: There are four test cases. You need to pass **ALL** to successfully finish this task. All four are given below. You can check if your code fulfills the requirements by running the cell. It will output a true in case that the code matches the test case and a false otherwise. "
   ]
  },
  {
   "cell_type": "code",
   "execution_count": 1,
   "metadata": {},
   "outputs": [],
   "source": [
    "# import necessary libraries. You do not need anything else! \n",
    "import numpy as np"
   ]
  },
  {
   "cell_type": "code",
   "execution_count": 2,
   "metadata": {},
   "outputs": [],
   "source": [
    "# define model weights \n",
    "w = np.array([1,0,1]);\n",
    "# define sample points\n",
    "x = np.array([0,1,2,3,4,5]); "
   ]
  },
  {
   "cell_type": "code",
   "execution_count": 3,
   "metadata": {},
   "outputs": [],
   "source": [
    "# implement the function evalModel\n",
    "# it should evaluate the model given in the task \n",
    "# \n",
    "def evalModel(w, x):\n",
    "    ypred = 0; \n",
    "    return ypred; "
   ]
  },
  {
   "cell_type": "code",
   "execution_count": 4,
   "metadata": {},
   "outputs": [
    {
     "name": "stdout",
     "output_type": "stream",
     "text": [
      "False\n"
     ]
    }
   ],
   "source": [
    "ypred_true = np.array([1,1,1,1,1,1]); \n",
    "w = np.array([1,0,0]); \n",
    "x = np.array([0, 1, 2, 3, 4, 5]); \n",
    "print(all(evalModel(w, x)==ypred_true))"
   ]
  },
  {
   "cell_type": "code",
   "execution_count": 5,
   "metadata": {},
   "outputs": [
    {
     "name": "stdout",
     "output_type": "stream",
     "text": [
      "False\n"
     ]
    }
   ],
   "source": [
    "ypred_true = np.array([0,1,2,3,4,5]);\n",
    "w = np.array([0,1,0]); \n",
    "x = np.array([0, 1, 2, 3, 4, 5]); \n",
    "print(all(evalModel(w, x)==ypred_true))"
   ]
  },
  {
   "cell_type": "code",
   "execution_count": 6,
   "metadata": {},
   "outputs": [
    {
     "name": "stdout",
     "output_type": "stream",
     "text": [
      "False\n"
     ]
    }
   ],
   "source": [
    "ypred_true = np.array([0,1,4,9,16,25]); \n",
    "w = np.array([0,0,1]); \n",
    "x = np.array([0, 1, 2, 3, 4, 5]); \n",
    "print(all(evalModel(w, x)==ypred_true))"
   ]
  },
  {
   "cell_type": "code",
   "execution_count": 7,
   "metadata": {},
   "outputs": [
    {
     "name": "stdout",
     "output_type": "stream",
     "text": [
      "False\n"
     ]
    }
   ],
   "source": [
    "ypred_true = np.array([1,3,7,13,21,31]); \n",
    "w = np.array([1,1,1]); \n",
    "x = np.array([0, 1, 2, 3, 4, 5]); \n",
    "print(all(evalModel(w, x)==ypred_true))"
   ]
  }
 ],
 "metadata": {
  "kernelspec": {
   "display_name": "Python 3",
   "language": "python",
   "name": "python3"
  },
  "language_info": {
   "codemirror_mode": {
    "name": "ipython",
    "version": 3
   },
   "file_extension": ".py",
   "mimetype": "text/x-python",
   "name": "python",
   "nbconvert_exporter": "python",
   "pygments_lexer": "ipython3",
   "version": "3.7.6"
  }
 },
 "nbformat": 4,
 "nbformat_minor": 2
}
