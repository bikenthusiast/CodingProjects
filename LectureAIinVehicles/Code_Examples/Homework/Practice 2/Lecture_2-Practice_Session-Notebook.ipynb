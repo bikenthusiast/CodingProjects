{
 "cells": [
  {
   "cell_type": "markdown",
   "metadata": {
    "pycharm": {}
   },
   "source": [
    "# Lane Detection Pipeline\n",
    "\n",
    "In this practice session we will define a special computer vision pipeline. The goal of the pipeline is to detect lane lines in images and a video. We are using different images to check if we worked correctly. We are applying our computer vision Knowhow from the lecture. The data (videos and images) used in this exercise are based on the course \"Self Driving Car Engineer Nanodegree\" from Udacity.\n",
    "\n",
    "This notebook shows you the complete pipeline with following steps:\n",
    "1. Load and videos and images to check, what kind of lanes we want to detect\n",
    "2. Import the necessary Libraries: focus on OpenCV function\n",
    "3. Define Python functions for image processing\n",
    "4. Define image processing pipeline\n",
    "5. Apply Image processing pipeline to an image\n",
    "6. Apply Image processing pipeline to a video\n",
    "\n",
    "\n",
    "---\n",
    "\n",
    "## Input Video\n",
    "First have a look at our input video stream of our front facing dashcam.\n",
    "(Remove the following cell for the video processing in the last step!)"
   ]
  },
  {
   "cell_type": "code",
   "execution_count": 1,
   "metadata": {
    "pycharm": {
     "is_executing": false
    }
   },
   "outputs": [
    {
     "data": {
      "text/html": [
       "<video width=\"960\" height=\"580\" controls>\n",
       "  <source src=\"./test_videos/solidWhiteRight.mp4\" type=\"video/mp4\">\n",
       "</video>\n"
      ],
      "text/plain": [
       "<IPython.core.display.HTML object>"
      ]
     },
     "metadata": {},
     "output_type": "display_data"
    }
   ],
   "source": [
    "%%HTML\n",
    "<video width=\"960\" height=\"580\" controls>\n",
    "  <source src=\"./test_videos/solidWhiteRight.mp4\" type=\"video/mp4\">\n",
    "</video>"
   ]
  },
  {
   "cell_type": "markdown",
   "metadata": {
    "pycharm": {}
   },
   "source": [
    "---\n",
    "\n",
    "## Import all necessary python packages\n",
    "In the next step we are adding the necessary python packages we need for our functions. The focus here is the openCV package that includes all important image processing functions e.g. canny edge deteciton\n"
   ]
  },
  {
   "cell_type": "code",
   "execution_count": 2,
   "metadata": {
    "pycharm": {
     "is_executing": false
    }
   },
   "outputs": [
    {
     "ename": "ModuleNotFoundError",
     "evalue": "No module named 'cv2'",
     "output_type": "error",
     "traceback": [
      "\u001b[0;31m---------------------------------------------------------------------------\u001b[0m",
      "\u001b[0;31mModuleNotFoundError\u001b[0m                       Traceback (most recent call last)",
      "\u001b[0;32m<ipython-input-2-a021cc9da402>\u001b[0m in \u001b[0;36m<module>\u001b[0;34m\u001b[0m\n\u001b[1;32m      5\u001b[0m \u001b[0;32mfrom\u001b[0m \u001b[0mnumpy\u001b[0m \u001b[0;32mimport\u001b[0m \u001b[0marange\u001b[0m\u001b[0;34m,\u001b[0m\u001b[0marray\u001b[0m\u001b[0;34m,\u001b[0m\u001b[0mones\u001b[0m\u001b[0;34m,\u001b[0m\u001b[0mlinalg\u001b[0m\u001b[0;34m\u001b[0m\u001b[0;34m\u001b[0m\u001b[0m\n\u001b[1;32m      6\u001b[0m \u001b[0;32mimport\u001b[0m \u001b[0mmath\u001b[0m\u001b[0;34m\u001b[0m\u001b[0;34m\u001b[0m\u001b[0m\n\u001b[0;32m----> 7\u001b[0;31m \u001b[0;32mimport\u001b[0m \u001b[0mcv2\u001b[0m\u001b[0;34m\u001b[0m\u001b[0;34m\u001b[0m\u001b[0m\n\u001b[0m\u001b[1;32m      8\u001b[0m \u001b[0;32mimport\u001b[0m \u001b[0mos\u001b[0m\u001b[0;34m\u001b[0m\u001b[0;34m\u001b[0m\u001b[0m\n\u001b[1;32m      9\u001b[0m \u001b[0;32mfrom\u001b[0m \u001b[0mmoviepy\u001b[0m\u001b[0;34m.\u001b[0m\u001b[0meditor\u001b[0m \u001b[0;32mimport\u001b[0m \u001b[0mVideoFileClip\u001b[0m\u001b[0;34m\u001b[0m\u001b[0;34m\u001b[0m\u001b[0m\n",
      "\u001b[0;31mModuleNotFoundError\u001b[0m: No module named 'cv2'"
     ]
    }
   ],
   "source": [
    "import matplotlib.pyplot as plt\n",
    "import matplotlib.image as mpimg\n",
    "from pylab import plot,show\n",
    "import numpy as np\n",
    "from numpy import arange,array,ones,linalg\n",
    "import math\n",
    "import cv2\n",
    "import os\n",
    "from moviepy.editor import VideoFileClip\n",
    "import imageio\n",
    "imageio.plugins.ffmpeg.download()"
   ]
  },
  {
   "cell_type": "markdown",
   "metadata": {
    "pycharm": {}
   },
   "source": [
    "---\n",
    "\n",
    "## Define all necessary Image Processing Functions\n",
    "We are moving all functions for processing the image in one cell.\n",
    "These functions are called every time we process an image."
   ]
  },
  {
   "cell_type": "code",
   "execution_count": null,
   "metadata": {
    "pycharm": {}
   },
   "outputs": [],
   "source": [
    "def grayscale(img):\n",
    "    \"\"\"Applies the Grayscale transform\n",
    "    This will return an image with only one color channel\n",
    "    but NOTE: to see the returned image as grayscale\n",
    "    (assuming your grayscaled image is called 'gray')\n",
    "    you should call plt.imshow(gray, cmap='gray')\"\"\"\n",
    "    return cv2.cvtColor(img, cv2.COLOR_RGB2GRAY)\n",
    "    # Or use BGR2GRAY if you read an image with cv2.imread()\n",
    "    # return cv2.cvtColor(img, cv2.COLOR_BGR2GRAY)\n",
    "\n",
    "\n",
    "def canny(img, low_threshold, high_threshold):\n",
    "    \"\"\"Applies the Canny transform\"\"\"\n",
    "    return cv2.Canny(img, low_threshold, high_threshold)\n",
    "\n",
    "\n",
    "def gaussian_blur(img, kernel_size):\n",
    "    \"\"\"Applies a Gaussian Noise kernel\"\"\"\n",
    "    return cv2.GaussianBlur(img, (kernel_size, kernel_size), 0)\n",
    "\n",
    "\n",
    "def region_of_interest(img, vertices):\n",
    "    \"\"\"\n",
    "    Applies an image mask.\n",
    "\n",
    "    Only keeps the region of the image defined by the polygon\n",
    "    formed from `vertices`. The rest of the image is set to black.\n",
    "    \"\"\"\n",
    "    # defining a blank mask to start with\n",
    "    mask = np.zeros_like(img)\n",
    "\n",
    "    # defining a 3 channel or 1 channel color to fill the mask with depending on the input image\n",
    "    if len(img.shape) > 2:\n",
    "        channel_count = img.shape[2]  # i.e. 3 or 4 depending on your image\n",
    "        ignore_mask_color = (255,) * channel_count\n",
    "    else:\n",
    "        ignore_mask_color = 255\n",
    "\n",
    "    # filling pixels inside the polygon defined by \"vertices\" with the fill color\n",
    "    cv2.fillPoly(mask, vertices, ignore_mask_color)\n",
    "\n",
    "    # returning the image only where mask pixels are nonzero\n",
    "    masked_image = cv2.bitwise_and(img, mask)\n",
    "    return masked_image\n",
    "\n",
    "def hough_lines(img, rho, theta, threshold, min_line_len, max_line_gap):\n",
    "    \"\"\"\n",
    "    `img` should be the output of a Canny transform.\n",
    "\n",
    "    Returns an image with hough lines drawn.\n",
    "    \"\"\"\n",
    "    lines_hough = cv2.HoughLinesP(img, rho, theta, threshold, np.array([]), minLineLength=min_line_len, maxLineGap=max_line_gap)\n",
    "    line_img = np.zeros((img.shape[0], img.shape[1], 3), dtype=np.uint8)\n",
    "    draw_lines(line_img, lines_hough)\n",
    "\n",
    "    return line_img\n",
    "\n",
    "\n",
    "def draw_lines(img, lines, color=[255, 0, 0], thickness=8):\n",
    "    \"\"\"\n",
    "    NOTE: this is the function you might want to use as a starting point once you want to\n",
    "    average/extrapolate the line segments you detect to map out the full\n",
    "    extent of the lane (going from the result shown in raw-lines-example.mp4\n",
    "    to that shown in P1_example.mp4).\n",
    "\n",
    "    Think about things like separating line segments by their\n",
    "    slope ((y2-y1)/(x2-x1)) to decide which segments are part of the left\n",
    "    line vs. the right line.  Then, you can average the position of each of\n",
    "    the lines and extrapolate to the top and bottom of the lane.\n",
    "\n",
    "    This function draws `lines` with `color` and `thickness`.\n",
    "    Lines are drawn on the image inplace (mutates the image).\n",
    "    If you want to make the lines semi-transparent, think about combining\n",
    "    this function with the weighted_img() function below\n",
    "    \"\"\"\n",
    "    imshape = img.shape\n",
    "\n",
    "    vertices = np.array([[(50, imshape[0]), (450, 320), (500, 320), (900, imshape[0])]], dtype=np.int32)\n",
    "    left_x = []\n",
    "    left_y = []\n",
    "    right_x = []\n",
    "    right_y = []\n",
    "\n",
    "    left_x1_max = 200\n",
    "    left_y1_max = imshape[0]\n",
    "    left_x2_max = 450\n",
    "    left_y2_max = 320\n",
    "\n",
    "    right_x1_max = 500\n",
    "    right_y1_max = 320\n",
    "    right_x2_max = 870\n",
    "    right_y2_max = imshape[0]\n",
    "\n",
    "\n",
    "    for line in lines:\n",
    "        for x1, y1, x2, y2 in line:\n",
    "\n",
    "            x_values = float(x2 - x1)\n",
    "            y_values = float(y2 - y1)\n",
    "            slope = float(y_values / x_values)\n",
    "            if slope < 0:\n",
    "                # Ignore obviously invalid lines\n",
    "                if slope > -.5 or slope < -.8:\n",
    "                    continue\n",
    "\n",
    "                left_x.append(x1)\n",
    "                left_x.append(x2)\n",
    "                left_y.append(y1)\n",
    "                left_y.append(y2)\n",
    "\n",
    "            else:\n",
    "                # Ignore obviously invalid lines\n",
    "                if slope < .5 or slope > .8:\n",
    "                    continue\n",
    "                right_x.append(x1)\n",
    "                right_x.append(x2)\n",
    "                right_y.append(y1)\n",
    "                right_y.append(y2)\n",
    "\n",
    "    right_x.append(right_x1_max)\n",
    "    right_x.append(right_x2_max)\n",
    "    right_y.append(right_y1_max)\n",
    "    right_y.append(right_y2_max)\n",
    "\n",
    "    left_x.append(left_x1_max)\n",
    "    left_x.append(left_x2_max)\n",
    "    left_y.append(left_y1_max)\n",
    "    left_y.append(left_y2_max)\n",
    "\n",
    "    x_right = np.asarray(right_x)\n",
    "    y_right = np.asarray(right_y)\n",
    "    A_right = array([x_right, ones(len(x_right))])\n",
    "    w_right = linalg.lstsq(A_right.T, y_right)[0]  # obtaining the parameters\n",
    "    line_right = w_right[0] * x_right + w_right[1]  # regression line\n",
    "\n",
    "    x_left = np.asarray(left_x)\n",
    "    y_left = np.asarray(left_y)\n",
    "    A_left = array([x_left, ones(len(x_left))])\n",
    "    w_left = linalg.lstsq(A_left.T, y_left)[0]  # obtaining the parameters\n",
    "    line_left = w_left[0] * x_left + w_left[1]  # regression line\n",
    "\n",
    "    x1_right = min(x_right)\n",
    "    x2_right = int((imshape[0] - w_right[1])/w_right[0])\n",
    "    y1_right = int(min(line_right))\n",
    "    y2_right = imshape[0]\n",
    "\n",
    "    x1_left = int((imshape[0] - w_left[1])/w_left[0])\n",
    "    x2_left =max(x_left)\n",
    "    y1_left = imshape[0]\n",
    "    y2_left = int(min(line_left))\n",
    "\n",
    "\n",
    "    cv2.line(img, (x1_right,y1_right),(x2_right,y2_right), color, thickness)\n",
    "    cv2.line(img, (x2_left, y2_left), (x1_left, y1_left), color, thickness)\n",
    "\n",
    "\n",
    "def weighted_img(img, initial_img, alpha=.8, beta=1., gamma=0.):\n",
    "    \"\"\"\n",
    "    `img` is the output of the hough_lines(), An image with lines drawn on it.\n",
    "    Should be a blank image (all black) with lines drawn on it.\n",
    "\n",
    "    `initial_img` should be the image before any processing.\n",
    "\n",
    "    The result image is computed as follows:\n",
    "\n",
    "    initial_img * alpha + img * beta + gamma\n",
    "    NOTE: initial_img and img must be the same shape!\n",
    "    \"\"\"\n",
    "    return cv2.addWeighted(initial_img, alpha, img, beta, gamma)\n",
    "\n",
    "def get_slope(x1, y1, x2, y2):\n",
    "    return float(float(y2 - y1) / float(x2 - x1))"
   ]
  },
  {
   "cell_type": "markdown",
   "metadata": {
    "pycharm": {}
   },
   "source": [
    "---\n",
    "\n",
    "## Define a function for processing an image Functions\n",
    "This is the overall function which process an image step by step with different functions. This function is called every time we process an image.\n",
    "\n",
    "\n",
    "1. Load an image and get the scale of the image\n",
    "2. Transfer image to a greysacle image\n",
    "2. Apply gaussian blur\n",
    "3. Apply the Canny Edge Detection algorithm\n",
    "4. Define a Region of Interest\n",
    "5. Retrieve Hough Lines\n",
    "6. Apply Lane Lines to an Image\n",
    "7. Apply Lane Lines to Videos"
   ]
  },
  {
   "cell_type": "code",
   "execution_count": null,
   "metadata": {
    "pycharm": {
     "is_executing": false
    }
   },
   "outputs": [],
   "source": [
    "def process_image(image):\n",
    "\n",
    "    \"\"\" Get the sacle of the image \"\"\"\n",
    "    imshape = image.shape\n",
    "    \n",
    "    \"\"\" Transf image to greysacle \"\"\"\n",
    "    gray = grayscale(image)\n",
    "    \n",
    "    \"\"\" Apply Gaussian Blur to the image\"\"\"\n",
    "    blur_gray = gaussian_blur(gray, 5)\n",
    "\n",
    "    \"\"\" Apply the Canny Edge Detection algorithm \"\"\"\n",
    "    canny_blur = canny(blur_gray, 100, 200)\n",
    "\n",
    "    \"\"\" Define a region of interest: Focus on the street in fron of the car \"\"\"\n",
    "    vertices = np.array([[(50, imshape[0]), (450, 320), (500, 320), (900, imshape[0])]], dtype=np.int32)\n",
    "    region_masked = region_of_interest(canny_blur, vertices)\n",
    "    \n",
    "    \"\"\" Apply Hough line detection to the canny edge image but just on the region of interest\"\"\"\n",
    "    hough_picture = hough_lines(region_masked, 2, np.pi / 180, 20, 50, 30)\n",
    "    \n",
    "    \"\"\" Result: Picture with Edges and Lines\"\"\"\n",
    "    result = weighted_img(hough_picture, image)\n",
    "    return result"
   ]
  },
  {
   "cell_type": "markdown",
   "metadata": {
    "pycharm": {}
   },
   "source": [
    "---\n",
    "\n",
    "## Find Lane Line in an image\n",
    "This is the main function which is loading an image, processing an image and applying the found lane lines to the image. Afterwards the new image is saved."
   ]
  },
  {
   "cell_type": "code",
   "execution_count": null,
   "metadata": {
    "pycharm": {}
   },
   "outputs": [],
   "source": [
    "################        Process for IMAGES        #######################\n",
    "image = 1\n",
    "if image == 1:\n",
    "    images = os.listdir(\"test_images/\")\n",
    "    for img_file in images:\n",
    "        print('Loading an image')\n",
    "        image = mpimg.imread('test_images/' + img_file)\n",
    "        #plt.imshow(image)\n",
    "        #plt.show()\n",
    "\n",
    "        print('Processing an image')\n",
    "        processed_image = process_image(image)\n",
    "        plt.imshow( processed_image)\n",
    "        plt.show()\n",
    "\n",
    "        plt.imshow(processed_image)\n",
    "        print('Saving an image \\n')\n",
    "        mpimg.imsave('output_images/lines-' + img_file, processed_image)"
   ]
  },
  {
   "cell_type": "markdown",
   "metadata": {
    "pycharm": {}
   },
   "source": [
    "---\n",
    "\n",
    "## Find Lane Line in an video\n",
    "This is the main function which is loading an video, splitting the video into images, processing an image and applying the found lane lines to the image. Afterwards the a video is ma"
   ]
  },
  {
   "cell_type": "code",
   "execution_count": null,
   "metadata": {
    "pycharm": {}
   },
   "outputs": [],
   "source": [
    "################        Process for Videos       #######################\n",
    "video = 1\n",
    "if video == 1:\n",
    "    print('Loading a video')\n",
    "    white_output = 'output_videos/output_video.mp4'\n",
    "    \n",
    "    \"\"\" Choose from one predefined clip\"\"\"\n",
    "    clip1 = VideoFileClip(\"test_videos/solidWhiteRight.mp4\")\n",
    "    #clip1 = VideoFileClip(\"test_videos/solidYellowLeft.mp4\")\n",
    "    a = clip1.fl_image\n",
    "\n",
    "    print('Processing a video')\n",
    "    white_clip = clip1.fl_image(process_image) #NOTE: this function expects color images!!\n",
    "\n",
    "    print('Saving the video')\n",
    "    white_clip.write_videofile(white_output, audio=False)"
   ]
  },
  {
   "cell_type": "code",
   "execution_count": null,
   "metadata": {
    "pycharm": {},
    "scrolled": true
   },
   "outputs": [],
   "source": [
    "%%HTML\n",
    "<video width=\"960\" height=\"580\" controls>\n",
    "  <source src=\"./output_videos/output_video.mp4\" type=\"video/mp4\">\n",
    "</video>"
   ]
  },
  {
   "cell_type": "markdown",
   "metadata": {
    "collapsed": true,
    "pycharm": {}
   },
   "source": [
    "---\n",
    "\n",
    "## Improvements\n",
    "\n",
    "Our lane detection algorithm is not perfect, there are possible improvements we can do:\n",
    "⋅⋅* Test\n",
    "⋅⋅* Test\n",
    "⋅⋅* Test"
   ]
  }
 ],
 "metadata": {
  "celltoolbar": "Tags",
  "kernelspec": {
   "display_name": "Python 3",
   "language": "python",
   "name": "python3"
  },
  "language_info": {
   "codemirror_mode": {
    "name": "ipython",
    "version": 3
   },
   "file_extension": ".py",
   "mimetype": "text/x-python",
   "name": "python",
   "nbconvert_exporter": "python",
   "pygments_lexer": "ipython3",
   "version": "3.7.6"
  }
 },
 "nbformat": 4,
 "nbformat_minor": 2
}
