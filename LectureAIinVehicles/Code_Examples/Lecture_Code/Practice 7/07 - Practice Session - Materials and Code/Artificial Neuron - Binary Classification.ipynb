{
 "cells": [
  {
   "cell_type": "markdown",
   "metadata": {},
   "source": [
    "# Artificial Neuron - Binary Classification | Practical Session Part III"
   ]
  },
  {
   "cell_type": "markdown",
   "metadata": {},
   "source": [
    "## 1 Introduction"
   ]
  },
  {
   "cell_type": "markdown",
   "metadata": {},
   "source": [
    "From the first two notebooks of this practical session, you will be familiar with basic tensorflow functionalities. Additionally, you have also learned how to conduct a linear regression in three dimensions by means of an artificial neuron. \n",
    "In this last part of this week's practical session you will now perform a binary classification using a single artifical neuron, gradient descent and a sigmoid activation function. \n",
    "\n",
    "Because most concepts are already known from the two other parts of this practical session, explanations in this notebook are rather short. If you fail to understand the code or any remarks and annotations, please consult the previous notebooks."
   ]
  },
  {
   "cell_type": "markdown",
   "metadata": {},
   "source": [
    "### 1.1 Imports"
   ]
  },
  {
   "cell_type": "markdown",
   "metadata": {},
   "source": [
    "Importing the same packages as in the second notebook of this practical session.\n",
    "\n",
    "**Please make sure that you have tensorflow version 1.12. installed! This notebook will not run if you use other tensorflow versions (especially tensorflow 2.xx).** If you do not know how to install the correct tensorflow version, please check moodle for an explanation introduction"
   ]
  },
  {
   "cell_type": "code",
   "execution_count": null,
   "metadata": {},
   "outputs": [],
   "source": [
    "import tensorflow as tf\n",
    "import numpy as np\n",
    "\n",
    "import matplotlib.pyplot as plt\n",
    "from mpl_toolkits.mplot3d import Axes3D\n",
    "\n",
    "import random # Used to generate artificially noised data"
   ]
  },
  {
   "cell_type": "markdown",
   "metadata": {},
   "source": [
    "### 1.2 General Idea"
   ]
  },
  {
   "cell_type": "markdown",
   "metadata": {},
   "source": [
    "The general structure of this notebook is given by the following enumeration:\n",
    "\n",
    "    1. Artificial training data is generated in chapter 2\n",
    "        - The training data contains two cubic clusters that denote different classes \n",
    "        - The training data is noisy\n",
    "        \n",
    "    2. An artificial neuron is created using tensorflow in chapter 3\n",
    "        - The artificial neuron shall later be trained to correctly predict class labels\n",
    "        - The artificial neuron uses a sigmoid activation function for binary classification purposes\n",
    "        \n",
    "    3. The artificial neuron is trained using the training data in chapter 4\n",
    "    \n",
    "    4. The classification results are examined in chapter 5\n",
    "        - The results are being visualized\n",
    "        - The loss and accuracy of the procedure is assessed"
   ]
  },
  {
   "cell_type": "markdown",
   "metadata": {},
   "source": [
    "## 2 Data Generation"
   ]
  },
  {
   "cell_type": "markdown",
   "metadata": {},
   "source": [
    "Analog to the second notebook of this practical session, artificial training data is generated. The training data is noisy and does contain to different groups or classes that can be linearly separated. Thus, the classes can potentially be discriminated by a binary classification approach using a single artificial neuron.\n",
    "\n",
    "Data generation takes place in section 2.1. Section 2.2 visualizes the generated data to foster an understanding for the problem to solve."
   ]
  },
  {
   "cell_type": "markdown",
   "metadata": {},
   "source": [
    "### 2.1 Data Generation"
   ]
  },
  {
   "cell_type": "markdown",
   "metadata": {},
   "source": [
    "The following lines of code generate our training data. If you are not interested in the process of data generation, you may skip this section and directly proceed to section 2.2. Please note that a label dataset is generated to assign class labels to each of the (x1, x2, x3) combinations in the training data. The labels are needed to teach the neuron which class a particular datapoint belongs to. Only by these examples, the gradient descent process can successfully adjust weights and bias of the neuron to build a good classifier."
   ]
  },
  {
   "cell_type": "code",
   "execution_count": null,
   "metadata": {},
   "outputs": [],
   "source": [
    "# Data Generation Options\n",
    "N_GROUP1 = 50 # Number of data points in group 1\n",
    "N_GROUP2 = 50 # Number of data points in group 1\n",
    "\n",
    "X1_BOUNDS_GROUP1 = [3, 5] # coordinate bounds for group 1\n",
    "X2_BOUNDS_GROUP1 = [3, 5]\n",
    "X3_BOUNDS_GROUP1 = [3, 5]\n",
    "\n",
    "X1_BOUNDS_GROUP2 = [0, 2] # coordinate bounds for group 2\n",
    "X2_BOUNDS_GROUP2 = [0, 2]\n",
    "X3_BOUNDS_GROUP2 = [0, 2]\n",
    "\n",
    "# Helper function to scale data to an interval [min, max]\n",
    "def mapminmax(x, min, max):\n",
    "\n",
    "    min_x = x.min()\n",
    "    max_x = x.max()\n",
    "    range_x = max_x-min_x\n",
    "\n",
    "    return ((x-min_x)/(range_x))*(max-min)+min\n",
    "\n",
    "# Define x1, x2, x3 datasets for two different groups of data\n",
    "x1_group1_data = np.random.rand(N_GROUP1) # Generate random values between 0 and 1 for each dimension for group 1\n",
    "x2_group1_data = np.random.rand(N_GROUP1)\n",
    "x3_group1_data = np.random.rand(N_GROUP1)\n",
    "\n",
    "x1_group2_data = np.random.rand(N_GROUP2) # Generate random values between 0 and 1 for each dimension for group 2\n",
    "x2_group2_data = np.random.rand(N_GROUP2)\n",
    "x3_group2_data = np.random.rand(N_GROUP2)\n",
    "\n",
    "x1_group1_data = mapminmax(x1_group1_data, X1_BOUNDS_GROUP1[0], X1_BOUNDS_GROUP1[1]) # Scale each dimension group 1\n",
    "x2_group1_data = mapminmax(x2_group1_data, X2_BOUNDS_GROUP1[0], X2_BOUNDS_GROUP1[1])\n",
    "x3_group1_data = mapminmax(x3_group1_data, X3_BOUNDS_GROUP1[0], X3_BOUNDS_GROUP1[1])\n",
    "\n",
    "x1_group2_data = mapminmax(x1_group2_data, X1_BOUNDS_GROUP2[0], X1_BOUNDS_GROUP2[1]) # Scale each dimension group 2\n",
    "x2_group2_data = mapminmax(x2_group2_data, X2_BOUNDS_GROUP2[0], X2_BOUNDS_GROUP2[1])\n",
    "x3_group2_data = mapminmax(x3_group2_data, X3_BOUNDS_GROUP2[0], X3_BOUNDS_GROUP2[1])\n",
    "\n",
    "# Define class label datasets for group 1 and 2\n",
    "labels_group1_data = np.ones(N_GROUP1)\n",
    "labels_group2_data = np.zeros(N_GROUP2)\n",
    "\n",
    "# Join datasets to form one big input dataset for the artificial neuron\n",
    "x1_data = np.concatenate((x1_group1_data, x1_group2_data))\n",
    "x2_data = np.concatenate((x2_group1_data,x2_group2_data))\n",
    "x3_data = np.concatenate((x3_group1_data, x3_group2_data))\n",
    "labels_data = np.concatenate((labels_group1_data, labels_group2_data))\n",
    "\n",
    "# Make x1, x2, x3 and labels tensorflow compliant\n",
    "x1_data = x1_data[:,np.newaxis]\n",
    "x2_data = x2_data[:,np.newaxis]\n",
    "x3_data = x3_data[:,np.newaxis]\n",
    "labels_data = labels_data[:,np.newaxis]"
   ]
  },
  {
   "cell_type": "markdown",
   "metadata": {},
   "source": [
    "### 2.2 Data Visualization"
   ]
  },
  {
   "cell_type": "markdown",
   "metadata": {},
   "source": [
    "The input data is visualized. It contains two separable clusters of data. "
   ]
  },
  {
   "cell_type": "code",
   "execution_count": null,
   "metadata": {},
   "outputs": [],
   "source": [
    "# Plot resulting clusters\n",
    "%matplotlib notebook\n",
    "fig = plt.figure()\n",
    "ax = fig.add_subplot(111, projection='3d')\n",
    "ax.plot(x1_group1_data, x2_group1_data, x3_group1_data, 'bo ')\n",
    "ax.plot(x1_group2_data, x2_group2_data, x3_group2_data, 'ro')\n",
    "ax.set_xlabel('x1')\n",
    "ax.set_ylabel('x2')\n",
    "ax.set_zlabel('x3')"
   ]
  },
  {
   "cell_type": "markdown",
   "metadata": {},
   "source": [
    "## 3 Artificial Neuron"
   ]
  },
  {
   "cell_type": "markdown",
   "metadata": {},
   "source": [
    "Most implementation parts of the tensorflow artificial neuron model are equal to the previous notebook. They shall therefore not be explained again. \n",
    "\n",
    "The largest difference between Practical Session Part II and this notebook is the number of inputs to the artificial neuron: While the previous notebook used two inputs to the neuron and made the neuron estimate the third dimension (i.e. a regression), we will now teach the neuron to deduce a class label from a three dimensional input (i.e. classification). Furthermore, the activation function is changed from an identify activation to a sigmoid activation. Therefore, the computational graph of the artificial neuron in this exercise is slightly different than the one in the last exercise. It shall therefore be shown in section 3.1, before a tensorflow implementation of the graph is carried out in section 3.2 "
   ]
  },
  {
   "cell_type": "markdown",
   "metadata": {},
   "source": [
    "### 3.1 Computational Graph"
   ]
  },
  {
   "cell_type": "markdown",
   "metadata": {},
   "source": [
    "The computational graph used to generate an artifical neuron capable of performing binary classification tasks is depicted below:"
   ]
  },
  {
   "attachments": {
    "ArtificialNeuronFunctionTex.png": {
     "image/png": "[encoded data removed]"
    }
   },
   "cell_type": "markdown",
   "metadata": {},
   "source": [
    "![ArtificialNeuronFunctionTex.png](attachment:ArtificialNeuronFunctionTex.png)"
   ]
  },
  {
   "attachments": {
    "ComputationalGraphArtificialNeuronClassification.png": {
     "image/png": "[encoded data removed]"
    }
   },
   "cell_type": "markdown",
   "metadata": {},
   "source": [
    "![ComputationalGraphArtificialNeuronClassification.png](attachment:ComputationalGraphArtificialNeuronClassification.png)"
   ]
  },
  {
   "cell_type": "markdown",
   "metadata": {},
   "source": [
    "### 3.2 Tensorflow Translation"
   ]
  },
  {
   "cell_type": "markdown",
   "metadata": {},
   "source": [
    "The translation of the computational graph depicted above works just like the translations in the other parts of this practical session. \n",
    "\n",
    "Please note however that y_hat, the expected output of the neuron is now given by a dataset of class labels. It shall therefore be called label instead of y_hat."
   ]
  },
  {
   "cell_type": "code",
   "execution_count": null,
   "metadata": {},
   "outputs": [],
   "source": [
    "# Define placeholders (Inputs)\n",
    "x1 = tf.placeholder(tf.float32, shape=[None, 1], name = \"x1\")\n",
    "x2 = tf.placeholder(tf.float32, shape=[None, 1], name = \"x2\")\n",
    "x3 = tf.placeholder(tf.float32, shape=[None, 1], name = \"x3\")\n",
    "\n",
    "# Define placeholder (Expected Output / Class label)\n",
    "label = tf.placeholder(tf.float32, shape = [None, 1], name = \"label\")\n",
    "\n",
    "# Define weights\n",
    "w1 = tf.Variable(0.0, name = \"w1\")\n",
    "w2 = tf.Variable(0.0, name = \"w2\")\n",
    "w3 = tf.Variable(0.0, name = \"w3\")\n",
    "\n",
    "# Define Bias\n",
    "b = tf.Variable(0.0, name = \"b\")\n",
    "\n",
    "# Define Neuron operations without activiation function\n",
    "wx1 = tf.multiply(w1, x1, name = \"wx1\")\n",
    "wx2 = tf.multiply(w2, x2, name = \"wx2\")\n",
    "wx3 = tf.multiply(w3, x3, name = \"wx3\")\n",
    "y_tilde = tf.add_n((wx1, wx2, wx3))+b\n",
    "\n",
    "# Define activation function (Sigmoid for binary classification)\n",
    "y = tf.nn.sigmoid(y_tilde)"
   ]
  },
  {
   "cell_type": "markdown",
   "metadata": {},
   "source": [
    "## 4 Training of the Artificial Neuron"
   ]
  },
  {
   "cell_type": "markdown",
   "metadata": {},
   "source": [
    "The training procedure of the artifical neuron for binary classification is nearly the same as in the previous example. Loss function (section 4.1) and optimizer (section 4.2) work exactly like the ones used in Practical Session Part II. If there are open questions regarding these aspects, please consult the previous notebooks.\n",
    "\n",
    "A little addition is made regarding quality assessment (section 4.3): In order to measure the classification quality, an accuracy operation is added to the tensorflow graph. "
   ]
  },
  {
   "cell_type": "markdown",
   "metadata": {},
   "source": [
    "### 4.1 Loss Function"
   ]
  },
  {
   "cell_type": "markdown",
   "metadata": {},
   "source": [
    "The loss function is the same loss function as in the two previous notebooks of this practical session."
   ]
  },
  {
   "cell_type": "code",
   "execution_count": null,
   "metadata": {},
   "outputs": [],
   "source": [
    "# Define constant\n",
    "c = tf.constant(0.5, name = \"c\")\n",
    "\n",
    "# Define loss function (see other jupyter notebook)\n",
    "o1 = tf.negative(label)\n",
    "o2 = tf.add(o1, y)\n",
    "o3 = tf.math.pow(o2, 2)\n",
    "o4 = tf.multiply(o3, c)\n",
    "L = o4"
   ]
  },
  {
   "cell_type": "markdown",
   "metadata": {},
   "source": [
    "### 4.2 Optimizer"
   ]
  },
  {
   "cell_type": "markdown",
   "metadata": {},
   "source": [
    "The optimizer is the same optimizer as in the previous notebook of this practical session."
   ]
  },
  {
   "cell_type": "code",
   "execution_count": null,
   "metadata": {},
   "outputs": [],
   "source": [
    "LEARNING_RATE = 0.03\n",
    "\n",
    "optimizer = tf.train.GradientDescentOptimizer(learning_rate=LEARNING_RATE).minimize(tf.reduce_mean(L))"
   ]
  },
  {
   "cell_type": "markdown",
   "metadata": {},
   "source": [
    "### 4.3 Accuracy"
   ]
  },
  {
   "cell_type": "markdown",
   "metadata": {},
   "source": [
    "To assess the quality of a classifier, the accuracy is calculated. The accuracy compares the number of correctly classified samples to the total number of samples (i.e. it calculates the relative amount of correct classifications).\n",
    "\n",
    "See the accuracy documentation here: https://www.tensorflow.org/api_docs/python/tf/metrics/accuracy"
   ]
  },
  {
   "cell_type": "code",
   "execution_count": null,
   "metadata": {},
   "outputs": [],
   "source": [
    "# Additional Operation to measure accuracy of the classification\n",
    "predictions = tf.placeholder(tf.float32, name = \"predictions\")\n",
    "accuracy = tf.metrics.accuracy(label, tf.round(predictions)) "
   ]
  },
  {
   "cell_type": "markdown",
   "metadata": {},
   "source": [
    "### 4.4 Training"
   ]
  },
  {
   "cell_type": "markdown",
   "metadata": {},
   "source": [
    "The trainig procedure is equal to the training procedure in Practical Session Part II, except that the accuracy of the classifier is evaluated after each training epoch in addition to the loss. "
   ]
  },
  {
   "cell_type": "code",
   "execution_count": null,
   "metadata": {},
   "outputs": [],
   "source": [
    "# Training Options\n",
    "EPOCHS = 300 \n",
    "BATCHSIZE = 3\n",
    "\n",
    "\n",
    "# Initializer\n",
    "ini = tf.global_variables_initializer()\n",
    "ini_l = tf.local_variables_initializer()\n",
    "\n",
    "loss_history = []\n",
    "acc_history = []\n",
    "\n",
    "with tf.Session() as sess:\n",
    "    \n",
    "    sess.run(ini_l)\n",
    "    sess.run(ini)\n",
    "\n",
    "    for e in range(EPOCHS):\n",
    "        for index, offset in enumerate(range(0, x1_data.shape[0], BATCHSIZE)):\n",
    "            \n",
    "            x1_batch = x1_data[offset: offset + BATCHSIZE]\n",
    "            x2_batch = x2_data[offset: offset + BATCHSIZE]\n",
    "            x3_batch = x3_data[offset: offset + BATCHSIZE]\n",
    "            labels_batch = labels_data[offset: offset + BATCHSIZE]\n",
    "            \n",
    "            feed_in = {x1: x1_batch, x2: x2_batch, x3: x3_batch, label: labels_batch}\n",
    "            \n",
    "            _, loss, weight1, weight2, weight3, bias  = sess.run([optimizer, L, w1, w2, w3, b], feed_dict = feed_in)\n",
    "        \n",
    "        \n",
    "        # Evaluate accuracy\n",
    "        pred = sess.run(y, feed_dict = {x1: x1_data, x2: x2_data, x3: x3_data})\n",
    "        acc = sess.run(accuracy, feed_dict={label: labels_data, predictions: pred})\n",
    "        \n",
    "        # Log accuracy history\n",
    "        acc_history.append(acc)\n",
    "        \n",
    "        # Log loss history\n",
    "        loss_history.append(np.mean(loss))"
   ]
  },
  {
   "cell_type": "markdown",
   "metadata": {},
   "source": [
    "## 5 Results"
   ]
  },
  {
   "cell_type": "markdown",
   "metadata": {},
   "source": [
    "The results of the binary classification are visualized in this section. Starting with the loss history (section 5.1), the accuracy (section 5.2) and the overall classification result are depicted. "
   ]
  },
  {
   "cell_type": "markdown",
   "metadata": {},
   "source": [
    "### 5.1 Loss History"
   ]
  },
  {
   "cell_type": "code",
   "execution_count": null,
   "metadata": {},
   "outputs": [],
   "source": [
    "plt.close()\n",
    "%matplotlib inline\n",
    "plt.plot(list(range(EPOCHS)), loss_history)\n",
    "plt.xlabel(\"Epoch\")\n",
    "plt.ylabel(\"Loss\")"
   ]
  },
  {
   "cell_type": "markdown",
   "metadata": {},
   "source": [
    "### 5.2 Accuracy"
   ]
  },
  {
   "cell_type": "code",
   "execution_count": null,
   "metadata": {},
   "outputs": [],
   "source": [
    "plt.close()\n",
    "%matplotlib inline\n",
    "plt.plot(list(range(EPOCHS)), acc_history, color = 'b')\n",
    "plt.xlabel(\"Epoch\")\n",
    "plt.ylabel(\"Accuracy\")"
   ]
  },
  {
   "cell_type": "markdown",
   "metadata": {},
   "source": [
    "### 5.3 Visualization"
   ]
  },
  {
   "cell_type": "markdown",
   "metadata": {},
   "source": [
    "The following code snippet visualizes the classification result. A plane constructed from the weights and bias of the artifical neuron is added to the dataset plot. The plane depicts the class border between the two classes, as it was identified by the artifical neuron in this exercise. A hypothetical point on the class border would be classified as 50% class 0 and 50% class 1 by the neuron. Because of the sigmoid function, each datapoint in a reasonable distance to the separating plane will be associated to one of the classes with almost 100% certainty.\n",
    "\n",
    "! For unknown reasons, you may have to execute the following code snippet twice to get an interactive figure. I am happy if someone finds the bug !"
   ]
  },
  {
   "cell_type": "code",
   "execution_count": null,
   "metadata": {},
   "outputs": [],
   "source": [
    "%matplotlib notebook\n",
    "plt.close()\n",
    "fig = plt.figure()\n",
    "ax = fig.add_subplot(111, projection='3d')\n",
    "ax.plot(x1_group1_data, x2_group1_data, x3_group1_data, 'bo ')\n",
    "ax.plot(x1_group2_data, x2_group2_data, x3_group2_data, 'ro')\n",
    "\n",
    "# Plotting the class separating plane generated by the artifical neuron\n",
    "surf_x1, surf_x2 = np.meshgrid(np.linspace(0, 5, 51), np.linspace(0, 5, 51))\n",
    "surf_x3 = (0.5 - weight1*surf_x1 - weight2 * surf_x2 - bias) / weight3\n",
    "ax.plot_surface(surf_x1, surf_x2, surf_x3)\n",
    "\n",
    "ax.set_xlabel('x1')\n",
    "ax.set_ylabel('x2')\n",
    "ax.set_zlabel('x3')"
   ]
  }
 ],
 "metadata": {
  "kernelspec": {
   "display_name": "Python 3",
   "language": "python",
   "name": "python3"
  },
  "language_info": {
   "codemirror_mode": {
    "name": "ipython",
    "version": 3
   },
   "file_extension": ".py",
   "mimetype": "text/x-python",
   "name": "python",
   "nbconvert_exporter": "python",
   "pygments_lexer": "ipython3",
   "version": "3.6.4"
  }
 },
 "nbformat": 4,
 "nbformat_minor": 2
}
